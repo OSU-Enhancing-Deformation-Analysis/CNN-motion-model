{
 "cells": [
  {
   "cell_type": "code",
   "execution_count": 8,
   "metadata": {},
   "outputs": [],
   "source": [
    "import os\n",
    "import sys\n",
    "import glob\n",
    "import csv\n",
    "import time\n",
    "import platform\n",
    "import socket\n",
    "import random\n",
    "from datetime import datetime\n",
    "from typing import Tuple, List, Callable"
   ]
  },
  {
   "cell_type": "code",
   "execution_count": 9,
   "metadata": {},
   "outputs": [],
   "source": [
    "import numpy as np\n",
    "import numpy.typing as npt\n",
    "import matplotlib.pyplot as plt\n",
    "from PIL import Image\n",
    "import psutil  # For system resource monitoring\n",
    "# import GPUtil  # For GPU information"
   ]
  },
  {
   "cell_type": "code",
   "execution_count": 10,
   "metadata": {},
   "outputs": [],
   "source": [
    "import torch\n",
    "import torch.nn as nn\n",
    "import torch.optim as optim\n",
    "from torch.utils.data import Dataset, DataLoader"
   ]
  },
  {
   "cell_type": "code",
   "execution_count": 11,
   "metadata": {},
   "outputs": [],
   "source": [
    "from displacements import VectorFieldComposer, VECTOR_FIELDS\n",
    "\n",
    "TILES_DIR = \"../tiles\"\n",
    "TILE_IMAGE_PATHS = glob.glob(os.path.join(TILES_DIR, \"**/*.png\"), recursive=True)\n",
    "\n",
    "TILE_SIZE = 256"
   ]
  },
  {
   "cell_type": "code",
   "execution_count": null,
   "metadata": {},
   "outputs": [],
   "source": [
    "def random_image() -> np.ndarray:\n",
    "    path = TILE_IMAGE_PATHS[random.randint(0, len(TILE_IMAGE_PATHS) - 1)]\n",
    "    image = Image.open(path, mode=\"r\")\n",
    "    return np.array(image)"
   ]
  },
  {
   "cell_type": "code",
   "execution_count": 12,
   "metadata": {},
   "outputs": [],
   "source": [
    "def generate_training_data(num_samples=100) -> Tuple[np.ndarray, np.ndarray]:\n",
    "    \"\"\"\n",
    "    returns (images in groups of 2, label) pairs\n",
    "    \"\"\"\n",
    "\n",
    "    composer = VectorFieldComposer()\n",
    "\n",
    "    available_fields = list(VECTOR_FIELDS.keys())\n",
    "    num_fields = random.randint(1, 3)\n",
    "    for _ in range(num_fields):\n",
    "        field_type = random.choice(available_fields)\n",
    "        composer.add_field(field_type, randomize=True)\n",
    "    \n",
    "    image_pairs = np.zeros((num_samples, 2, TILE_SIZE, TILE_SIZE, 3), dtype=np.float32)\n",
    "    motion_vectors = np.zeros((num_samples, 2, TILE_SIZE, TILE_SIZE, 3), dtype=np.float32) # motin vectors\n",
    "\n",
    "    for i in range(num_samples):\n",
    "        base_image = random_image()\n",
    "\n",
    "        grid_X, grid_Y = np.meshgrid(np.linspace(-1, 1, TILE_SIZE), np.linspace(-1, 1, TILE_SIZE))\n",
    "        dx, dy = composer.compute_combined_field(grid_X, grid_Y)\n",
    "\n",
    "        transformed_image = composer.apply_to_image(base_image)\n",
    "\n",
    "        image_pairs[i, 0] = base_image\n",
    "        image_pairs[i, 1] = transformed_image\n",
    "        motion_vectors[i, 0] = dx\n",
    "        motion_vectors[i, 1] = dy\n",
    "\n",
    "    return image_pairs, motion_vectors"
   ]
  },
  {
   "cell_type": "code",
   "execution_count": null,
   "metadata": {},
   "outputs": [],
   "source": []
  }
 ],
 "metadata": {
  "kernelspec": {
   "display_name": "py310_gpu",
   "language": "python",
   "name": "python3"
  },
  "language_info": {
   "codemirror_mode": {
    "name": "ipython",
    "version": 3
   },
   "file_extension": ".py",
   "mimetype": "text/x-python",
   "name": "python",
   "nbconvert_exporter": "python",
   "pygments_lexer": "ipython3",
   "version": "3.10.15"
  }
 },
 "nbformat": 4,
 "nbformat_minor": 2
}
