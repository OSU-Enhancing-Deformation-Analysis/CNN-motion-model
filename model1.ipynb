{
 "cells": [
  {
   "cell_type": "markdown",
   "metadata": {},
   "source": [
    "### Imports"
   ]
  },
  {
   "cell_type": "code",
   "execution_count": 14,
   "metadata": {},
   "outputs": [],
   "source": [
    "import os\n",
    "import sys\n",
    "import glob\n",
    "import csv\n",
    "import time\n",
    "import platform\n",
    "import socket\n",
    "import random\n",
    "from datetime import datetime\n",
    "from typing import Tuple, List, Callable"
   ]
  },
  {
   "cell_type": "code",
   "execution_count": 15,
   "metadata": {},
   "outputs": [],
   "source": [
    "import numpy as np\n",
    "import numpy.typing as npt\n",
    "import matplotlib.pyplot as plt\n",
    "from PIL import Image\n",
    "import psutil  # For system resource monitoring\n",
    "# import GPUtil  # For GPU information"
   ]
  },
  {
   "cell_type": "code",
   "execution_count": 16,
   "metadata": {},
   "outputs": [],
   "source": [
    "import torch\n",
    "from torch import nn\n",
    "import torch.optim as optim\n",
    "from torchvision.io import decode_image\n",
    "from torch.utils.data import Dataset, DataLoader\n",
    "from torchvision.transforms import ToTensor"
   ]
  },
  {
   "cell_type": "markdown",
   "metadata": {},
   "source": [
    "### Constants"
   ]
  },
  {
   "cell_type": "code",
   "execution_count": 17,
   "metadata": {},
   "outputs": [],
   "source": [
    "from displacements import VectorFieldComposer, VECTOR_FIELDS\n",
    "\n",
    "TILES_DIR = \"../tiles\"\n",
    "TILE_IMAGE_PATHS = glob.glob(os.path.join(TILES_DIR, \"**/*.png\"), recursive=True)\n",
    "MAX_TILES = 50\n",
    "NUM_TILES = min(MAX_TILES, len(TILE_IMAGE_PATHS))\n",
    "\n",
    "TILE_SIZE = 256"
   ]
  },
  {
   "cell_type": "markdown",
   "metadata": {},
   "source": [
    "# Dataset"
   ]
  },
  {
   "cell_type": "code",
   "execution_count": 18,
   "metadata": {},
   "outputs": [],
   "source": [
    "class CustomDataset(Dataset):\n",
    "    def __init__(self, variations_per_image: int = 10):\n",
    "        self.variations_per_image = variations_per_image\n",
    "    \n",
    "    def __len__(self):\n",
    "        return NUM_TILES * self.variations_per_image\n",
    "\n",
    "    def __getitem__(self, index):\n",
    "        # Indexes work like this:\n",
    "        # [1_0, ..., n_0, 1_1, ..., n_1, 1_v, ..., n_v, ...]\n",
    "        # [1  , ..., n  , n+1, ..., n+n, vn+1,..., vn+n,...]\n",
    "        # Where n is the number of images\n",
    "        # And v is the variation number\n",
    "        \n",
    "        # Get the image index\n",
    "        path_index = index % NUM_TILES\n",
    "        variation = index // self.variations_per_image\n",
    "\n",
    "        random.seed(variation)\n",
    "\n",
    "        composer = VectorFieldComposer()\n",
    "            \n",
    "        available_fields = list(VECTOR_FIELDS.keys())\n",
    "        num_fields = random.randint(1, 3)\n",
    "        for _ in range(num_fields):\n",
    "            field_type = random.choice(available_fields)\n",
    "            composer.add_field(field_type, randomize=True)\n",
    "        \n",
    "        image = np.array(Image.open(TILE_IMAGE_PATHS[path_index], mode=\"r\"))\n",
    "        image2 = composer.apply_to_image(image)\n",
    "\n",
    "        grid_X, grid_Y = np.meshgrid(np.linspace(-1, 1, TILE_SIZE), np.linspace(-1, 1, TILE_SIZE))\n",
    "        dx, dy = composer.compute_combined_field(grid_X, grid_Y)\n",
    "\n",
    "        # return image.astype(np.float32), dx.astype(np.float32)\n",
    "        return np.array([image, image2]).astype(np.float32), np.array([dx, dy]).astype(np.float32)"
   ]
  },
  {
   "cell_type": "code",
   "execution_count": 19,
   "metadata": {},
   "outputs": [],
   "source": [
    "VARIATIONS_PER_IMAGE = 10\n",
    "EPOCHS = 50\n",
    "BATCH_SIZE = 2\n",
    "IMG_SIZE = TILE_SIZE\n",
    "LEARNING_RATE = 0.0001\n",
    "\n",
    "SAVE_FOLDER = \"model1\""
   ]
  },
  {
   "cell_type": "code",
   "execution_count": 20,
   "metadata": {},
   "outputs": [
    {
     "name": "stdout",
     "output_type": "stream",
     "text": [
      "Shape of X [N, C, H, W]: torch.Size([2, 2, 256, 256])\n",
      "Shape of y: torch.Size([2, 2, 256, 256]) torch.float32\n"
     ]
    }
   ],
   "source": [
    "training_dataset = CustomDataset(VARIATIONS_PER_IMAGE)\n",
    "validation_dataset = CustomDataset(VARIATIONS_PER_IMAGE)\n",
    "\n",
    "training_dataloader = DataLoader(training_dataset, batch_size=BATCH_SIZE, shuffle=True)\n",
    "validation_dataloader = DataLoader(validation_dataset, batch_size=BATCH_SIZE)\n",
    "\n",
    "for X, y in training_dataloader:\n",
    "    print(f\"Shape of X [N, C, H, W]: {X.shape}\")\n",
    "    print(f\"Shape of y: {y.shape} {y.dtype}\")\n",
    "    break"
   ]
  },
  {
   "cell_type": "markdown",
   "metadata": {},
   "source": [
    "# Model"
   ]
  },
  {
   "cell_type": "code",
   "execution_count": 21,
   "metadata": {},
   "outputs": [
    {
     "name": "stdout",
     "output_type": "stream",
     "text": [
      "Using cuda device\n"
     ]
    }
   ],
   "source": [
    "device = torch.accelerator.current_accelerator().type if torch.accelerator.is_available() else \"cpu\"\n",
    "print(f\"Using {device} device\")"
   ]
  },
  {
   "cell_type": "code",
   "execution_count": 22,
   "metadata": {},
   "outputs": [
    {
     "name": "stdout",
     "output_type": "stream",
     "text": [
      "MotionVectorRegressionNetwork(\n",
      "  (convolution): Sequential(\n",
      "    (0): ConvolutionBlock(\n",
      "      (conv): Sequential(\n",
      "        (0): Conv2d(2, 32, kernel_size=(3, 3), stride=(1, 1), padding=(1, 1))\n",
      "        (1): ReLU()\n",
      "        (2): LeakyReLU(negative_slope=0.1)\n",
      "      )\n",
      "      (residual): Sequential(\n",
      "        (0): Conv2d(2, 32, kernel_size=(1, 1), stride=(1, 1), bias=False)\n",
      "        (1): BatchNorm2d(32, eps=1e-05, momentum=0.1, affine=True, track_running_stats=True)\n",
      "      )\n",
      "    )\n",
      "    (1): ConvolutionBlock(\n",
      "      (conv): Sequential(\n",
      "        (0): Conv2d(32, 64, kernel_size=(3, 3), stride=(1, 1), padding=(1, 1))\n",
      "        (1): ReLU()\n",
      "        (2): LeakyReLU(negative_slope=0.1)\n",
      "      )\n",
      "      (residual): Sequential(\n",
      "        (0): Conv2d(32, 64, kernel_size=(1, 1), stride=(1, 1), bias=False)\n",
      "        (1): BatchNorm2d(64, eps=1e-05, momentum=0.1, affine=True, track_running_stats=True)\n",
      "      )\n",
      "    )\n",
      "    (2): ConvolutionBlock(\n",
      "      (conv): Sequential(\n",
      "        (0): Conv2d(64, 128, kernel_size=(3, 3), stride=(1, 1), padding=(1, 1))\n",
      "        (1): ReLU()\n",
      "        (2): LeakyReLU(negative_slope=0.1)\n",
      "      )\n",
      "      (residual): Sequential(\n",
      "        (0): Conv2d(64, 128, kernel_size=(1, 1), stride=(1, 1), bias=False)\n",
      "        (1): BatchNorm2d(128, eps=1e-05, momentum=0.1, affine=True, track_running_stats=True)\n",
      "      )\n",
      "    )\n",
      "    (3): ConvolutionBlock(\n",
      "      (conv): Sequential(\n",
      "        (0): Conv2d(128, 128, kernel_size=(3, 3), stride=(1, 1), padding=(1, 1))\n",
      "        (1): ReLU()\n",
      "        (2): LeakyReLU(negative_slope=0.1)\n",
      "      )\n",
      "      (residual): Sequential()\n",
      "    )\n",
      "  )\n",
      "  (output): Sequential(\n",
      "    (0): Conv2d(128, 2, kernel_size=(3, 3), stride=(1, 1), padding=(1, 1))\n",
      "  )\n",
      ")\n"
     ]
    }
   ],
   "source": [
    "class ConvolutionBlock(nn.Module):\n",
    "    def __init__(self, in_channels, out_channels, kernel_size=3, stride=1, padding=1):\n",
    "        super().__init__()\n",
    "        \n",
    "        self.conv = nn.Sequential(\n",
    "            nn.Conv2d(in_channels, out_channels, kernel_size=kernel_size, stride=stride, padding=padding),\n",
    "            nn.ReLU(),\n",
    "            nn.LeakyReLU(0.1),\n",
    "        )\n",
    "\n",
    "        self.residual = nn.Sequential()\n",
    "        if in_channels != out_channels:\n",
    "            self.residual = nn.Sequential(\n",
    "                nn.Conv2d(in_channels, out_channels, kernel_size=1, stride=stride, bias=False),\n",
    "                nn.BatchNorm2d(out_channels),\n",
    "            )\n",
    "\n",
    "    def forward(self, x):\n",
    "        # i learned about this in class today! the timing in on point!\n",
    "        return self.conv(x) + self.residual(x)\n",
    "\n",
    "class MotionVectorRegressionNetwork(nn.Module):\n",
    "    def __init__(self, input_images = 2):\n",
    "        super().__init__()\n",
    "        # Outputs an xy motion vector per pixel\n",
    "        self.input_images = input_images\n",
    "        self.vector_channels = 2\n",
    "\n",
    "        self.convolution = nn.Sequential(\n",
    "            ConvolutionBlock(input_images, 32, kernel_size=3), # input_images (2) -> 32 channels\n",
    "            ConvolutionBlock(32, 64, kernel_size=3), # 32 -> 64 channels\n",
    "            ConvolutionBlock(64, 128, kernel_size=3), # 64 -> 128 channels \n",
    "            ConvolutionBlock(128, 128, kernel_size=3), # 128 -> 128 channels\n",
    "        ) \n",
    "\n",
    "        self.output = nn.Sequential(\n",
    "            nn.Conv2d(128, self.vector_channels, kernel_size=3, stride=1, padding=1), # 128 -> 2 channels\n",
    "        )\n",
    "\n",
    "    def forward(self, x):\n",
    "        x = self.convolution(x)\n",
    "        x = self.output(x)\n",
    "        return x\n",
    "\n",
    "model = MotionVectorRegressionNetwork(input_images=2).to(device)\n",
    "print(model)"
   ]
  },
  {
   "cell_type": "code",
   "execution_count": 23,
   "metadata": {},
   "outputs": [],
   "source": [
    "loss_fn = nn.L1Loss()\n",
    "optimizer = optim.Adam(model.parameters(), lr=0.001)"
   ]
  },
  {
   "cell_type": "code",
   "execution_count": 24,
   "metadata": {},
   "outputs": [],
   "source": [
    "def train(dataloader, model, loss_fn, optimizer):\n",
    "    size = len(dataloader.dataset)\n",
    "    model.train()\n",
    "    for batch, (X, y) in enumerate(dataloader):\n",
    "        X, y = X.to(device), y.to(device)\n",
    "\n",
    "        # Compute prediction error\n",
    "        pred = model(X)\n",
    "        loss = loss_fn(pred, y)\n",
    "\n",
    "        # Backpropagation\n",
    "        loss.backward()\n",
    "        optimizer.step()\n",
    "        optimizer.zero_grad()\n",
    "\n",
    "        if batch % 100 == 0:\n",
    "            loss, current = loss.item(), (batch + 1) * len(X)\n",
    "            print(f\"loss: {loss:>7f}  [{current:>5d}/{size:>5d}]\")"
   ]
  },
  {
   "cell_type": "code",
   "execution_count": 25,
   "metadata": {},
   "outputs": [],
   "source": [
    "def test(dataloader, model, loss_fn):\n",
    "    size = len(dataloader.dataset)\n",
    "    num_batches = len(dataloader)\n",
    "    model.eval()\n",
    "    test_loss, correct = 0, 0\n",
    "    with torch.no_grad():\n",
    "        for X, y in dataloader:\n",
    "            X, y = X.to(device), y.to(device)\n",
    "            pred = model(X)\n",
    "            test_loss += loss_fn(pred, y).item()\n",
    "            correct += (pred.argmax(1) == y).type(torch.float).sum().item()\n",
    "    test_loss /= num_batches\n",
    "    correct /= size\n",
    "    print(f\"Test Error: \\n Accuracy: {(100*correct):>0.1f}%, Avg loss: {test_loss:>8f} \\n\")"
   ]
  },
  {
   "cell_type": "code",
   "execution_count": 26,
   "metadata": {},
   "outputs": [
    {
     "name": "stdout",
     "output_type": "stream",
     "text": [
      "Epoch 1\n",
      "-------------------------------\n",
      "loss: 11.604059  [    2/  500]\n",
      "loss: 1.022498  [  202/  500]\n",
      "loss: 0.498879  [  402/  500]\n",
      "Test Error: \n",
      " Accuracy: 0.0%, Avg loss: 0.745693 \n",
      "\n",
      "Epoch 2\n",
      "-------------------------------\n",
      "loss: 0.678147  [    2/  500]\n",
      "loss: 0.365545  [  202/  500]\n",
      "loss: 0.681706  [  402/  500]\n",
      "Test Error: \n",
      " Accuracy: 0.0%, Avg loss: 0.721856 \n",
      "\n",
      "Epoch 3\n",
      "-------------------------------\n",
      "loss: 0.489334  [    2/  500]\n",
      "loss: 0.286216  [  202/  500]\n",
      "loss: 0.549563  [  402/  500]\n",
      "Test Error: \n",
      " Accuracy: 0.0%, Avg loss: 0.625298 \n",
      "\n",
      "Epoch 4\n",
      "-------------------------------\n",
      "loss: 0.437387  [    2/  500]\n",
      "loss: 0.303922  [  202/  500]\n",
      "loss: 0.541720  [  402/  500]\n",
      "Test Error: \n",
      " Accuracy: 0.0%, Avg loss: 0.557655 \n",
      "\n",
      "Epoch 5\n",
      "-------------------------------\n",
      "loss: 0.320273  [    2/  500]\n",
      "loss: 0.214071  [  202/  500]\n",
      "loss: 0.766734  [  402/  500]\n",
      "Test Error: \n",
      " Accuracy: 0.0%, Avg loss: 0.557902 \n",
      "\n",
      "Model saved to save_path\n",
      "Done!\n"
     ]
    }
   ],
   "source": [
    "epochs = 5\n",
    "for t in range(epochs):\n",
    "    print(f\"Epoch {t+1}\\n-------------------------------\")\n",
    "    train(training_dataloader, model, loss_fn, optimizer)\n",
    "    test(validation_dataloader, model, loss_fn)\n",
    "\n",
    "torch.save(model.state_dict(), \"save_path.pth\")\n",
    "print(f\"Model saved to save_path\")\n",
    "print(\"Done!\")"
   ]
  }
 ],
 "metadata": {
  "kernelspec": {
   "display_name": "py310_gpu",
   "language": "python",
   "name": "python3"
  },
  "language_info": {
   "codemirror_mode": {
    "name": "ipython",
    "version": 3
   },
   "file_extension": ".py",
   "mimetype": "text/x-python",
   "name": "python",
   "nbconvert_exporter": "python",
   "pygments_lexer": "ipython3",
   "version": "3.10.15"
  }
 },
 "nbformat": 4,
 "nbformat_minor": 2
}
