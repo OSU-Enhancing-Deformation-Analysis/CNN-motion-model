{
 "cells": [
  {
   "cell_type": "markdown",
   "metadata": {},
   "source": [
    "### Imports"
   ]
  },
  {
   "cell_type": "code",
   "execution_count": 1,
   "metadata": {},
   "outputs": [],
   "source": [
    "import os\n",
    "import sys\n",
    "import glob\n",
    "import csv\n",
    "import time\n",
    "import platform\n",
    "import socket\n",
    "import random\n",
    "from datetime import datetime\n",
    "from typing import Tuple, List, Callable"
   ]
  },
  {
   "cell_type": "code",
   "execution_count": 2,
   "metadata": {},
   "outputs": [],
   "source": [
    "import numpy as np\n",
    "import numpy.typing as npt\n",
    "import matplotlib.pyplot as plt\n",
    "from PIL import Image\n",
    "import psutil  # For system resource monitoring\n",
    "# import GPUtil  # For GPU information"
   ]
  },
  {
   "cell_type": "code",
   "execution_count": 3,
   "metadata": {},
   "outputs": [],
   "source": [
    "import torch\n",
    "from torch import nn\n",
    "import torch.optim as optim\n",
    "from torchvision.io import decode_image\n",
    "from torch.utils.data import Dataset, DataLoader\n",
    "from torchvision.transforms import ToTensor"
   ]
  },
  {
   "cell_type": "markdown",
   "metadata": {},
   "source": [
    "### Constants"
   ]
  },
  {
   "cell_type": "code",
   "execution_count": 4,
   "metadata": {},
   "outputs": [],
   "source": [
    "from displacements import VectorFieldComposer, VECTOR_FIELDS\n",
    "\n",
    "TILES_DIR = \"../tiles\"\n",
    "TILE_IMAGE_PATHS = glob.glob(os.path.join(TILES_DIR, \"**/*.png\"), recursive=True)\n",
    "NUM_TILES = len(TILE_IMAGE_PATHS)\n",
    "\n",
    "TILE_SIZE = 256"
   ]
  },
  {
   "cell_type": "markdown",
   "metadata": {},
   "source": [
    "# Dataset"
   ]
  },
  {
   "cell_type": "code",
   "execution_count": 6,
   "metadata": {},
   "outputs": [],
   "source": [
    "class CustomDataset(Dataset):\n",
    "    def __init__(self, variations_per_image: int = 10):\n",
    "        self.variations_per_image = variations_per_image\n",
    "    \n",
    "    def __len__(self):\n",
    "        return NUM_TILES * self.variations_per_image\n",
    "\n",
    "    def __getitem__(self, index):\n",
    "        # Indexes work like this:\n",
    "        # [1_0, ..., n_0, 1_1, ..., n_1, 1_v, ..., n_v, ...]\n",
    "        # [1  , ..., n  , n+1, ..., n+n, vn+1,..., vn+n,...]\n",
    "        # Where n is the number of images\n",
    "        # And v is the variation number\n",
    "        \n",
    "        # Get the image index\n",
    "        path_index = index % NUM_TILES\n",
    "        variation = index // self.variations_per_image\n",
    "\n",
    "        random.seed(variation)\n",
    "\n",
    "        composer = VectorFieldComposer()\n",
    "            \n",
    "        available_fields = list(VECTOR_FIELDS.keys())\n",
    "        num_fields = random.randint(1, 3)\n",
    "        for _ in range(num_fields):\n",
    "            field_type = random.choice(available_fields)\n",
    "            composer.add_field(field_type, randomize=True)\n",
    "        \n",
    "        image = np.array(Image.open(TILE_IMAGE_PATHS[path_index], mode=\"r\"))\n",
    "        image2 = composer.apply_to_image(image)\n",
    "\n",
    "        grid_X, grid_Y = np.meshgrid(np.linspace(-1, 1, TILE_SIZE), np.linspace(-1, 1, TILE_SIZE))\n",
    "        dx, dy = composer.compute_combined_field(grid_X, grid_Y)\n",
    "\n",
    "        return np.array([image, image2]), np.array([dx, dy])"
   ]
  },
  {
   "cell_type": "code",
   "execution_count": 7,
   "metadata": {},
   "outputs": [],
   "source": [
    "VARIATIONS_PER_IMAGE = 10\n",
    "EPOCHS = 50\n",
    "BATCH_SIZE = 32\n",
    "IMG_SIZE = TILE_SIZE\n",
    "LEARNING_RATE = 0.0001\n",
    "\n",
    "SAVE_FOLDER = \"model1\""
   ]
  },
  {
   "cell_type": "code",
   "execution_count": 8,
   "metadata": {},
   "outputs": [
    {
     "name": "stdout",
     "output_type": "stream",
     "text": [
      "Shape of X [N, C, H, W]: torch.Size([32, 2, 256, 256])\n",
      "Shape of y: torch.Size([32, 2, 256, 256]) torch.float64\n"
     ]
    }
   ],
   "source": [
    "training_dataset = CustomDataset(VARIATIONS_PER_IMAGE)\n",
    "validation_dataset = CustomDataset(VARIATIONS_PER_IMAGE)\n",
    "\n",
    "train_dataloader = DataLoader(training_dataset, batch_size=BATCH_SIZE, shuffle=True)\n",
    "val_dataloader = DataLoader(validation_dataset, batch_size=BATCH_SIZE)\n",
    "\n",
    "for X, y in train_dataloader:\n",
    "    print(f\"Shape of X [N, C, H, W]: {X.shape}\")\n",
    "    print(f\"Shape of y: {y.shape} {y.dtype}\")\n",
    "    break"
   ]
  },
  {
   "cell_type": "markdown",
   "metadata": {},
   "source": [
    "# Model"
   ]
  },
  {
   "cell_type": "code",
   "execution_count": null,
   "metadata": {},
   "outputs": [],
   "source": [
    "device = torch.accelerator.current_accelerator().type if torch.accelerator.is_available() else \"cpu\"\n",
    "print(f\"Using {device} device\")"
   ]
  },
  {
   "cell_type": "code",
   "execution_count": 9,
   "metadata": {},
   "outputs": [
    {
     "name": "stdout",
     "output_type": "stream",
     "text": [
      "Using cuda device\n",
      "NeuralNetwork(\n",
      "  (flatten): Flatten(start_dim=1, end_dim=-1)\n",
      "  (linear_relu_stack): Sequential(\n",
      "    (0): Linear(in_features=784, out_features=512, bias=True)\n",
      "    (1): ReLU()\n",
      "    (2): Linear(in_features=512, out_features=512, bias=True)\n",
      "    (3): ReLU()\n",
      "    (4): Linear(in_features=512, out_features=10, bias=True)\n",
      "  )\n",
      ")\n"
     ]
    }
   ],
   "source": [
    "class NeuralNetwork(nn.Module):\n",
    "    def __init__(self):\n",
    "        super().__init__()\n",
    "        self.flatten = nn.Flatten()\n",
    "        self.linear_relu_stack = nn.Sequential(\n",
    "            nn.Linear(28*28, 512),\n",
    "            nn.ReLU(),\n",
    "            nn.Linear(512, 512),\n",
    "            nn.ReLU(),\n",
    "            nn.Linear(512, 10)\n",
    "        )\n",
    "\n",
    "    def forward(self, x):\n",
    "        x = self.flatten(x)\n",
    "        logits = self.linear_relu_stack(x)\n",
    "        return logits\n",
    "\n",
    "model = NeuralNetwork().to(device)\n",
    "print(model)"
   ]
  }
 ],
 "metadata": {
  "kernelspec": {
   "display_name": "py310_gpu",
   "language": "python",
   "name": "python3"
  },
  "language_info": {
   "codemirror_mode": {
    "name": "ipython",
    "version": 3
   },
   "file_extension": ".py",
   "mimetype": "text/x-python",
   "name": "python",
   "nbconvert_exporter": "python",
   "pygments_lexer": "ipython3",
   "version": "3.10.15"
  }
 },
 "nbformat": 4,
 "nbformat_minor": 2
}
