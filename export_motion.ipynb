{
 "cells": [
  {
   "cell_type": "markdown",
   "metadata": {},
   "source": [
    "### Imports"
   ]
  },
  {
   "cell_type": "code",
   "execution_count": 1,
   "metadata": {},
   "outputs": [],
   "source": [
    "import os\n",
    "import sys\n",
    "import glob\n",
    "import csv\n",
    "import time\n",
    "import random\n",
    "import re\n",
    "from datetime import datetime\n",
    "from typing import Tuple, List, Callable"
   ]
  },
  {
   "cell_type": "code",
   "execution_count": 2,
   "metadata": {},
   "outputs": [],
   "source": [
    "import numpy as np\n",
    "import numpy.typing as npt\n",
    "import matplotlib.pyplot as plt\n",
    "from PIL import Image"
   ]
  },
  {
   "cell_type": "code",
   "execution_count": 3,
   "metadata": {},
   "outputs": [],
   "source": [
    "import torch\n",
    "from torch import nn\n",
    "import torch.optim as optim\n",
    "from torchvision.io import decode_image\n",
    "from torch.utils.data import Dataset, DataLoader\n",
    "from torchvision.transforms import ToTensor"
   ]
  },
  {
   "cell_type": "markdown",
   "metadata": {},
   "source": [
    "### Constants"
   ]
  },
  {
   "cell_type": "code",
   "execution_count": 4,
   "metadata": {},
   "outputs": [],
   "source": [
    "from displacements import VectorFieldComposer, VECTOR_FIELDS\n",
    "\n",
    "TILES_DIR = \"../tiles\"\n",
    "# TILE_IMAGE_PATHS = glob.glob(os.path.join(TILES_DIR, \"**/*.png\"), recursive=True)\n",
    "TILE_IMAGE_PATHS = glob.glob(os.path.join(TILES_DIR, \"g*/**/*.png\"), recursive=True) # Just the graphite images\n",
    "MAX_TILES = 50000\n",
    "NUM_TILES = min(MAX_TILES, len(TILE_IMAGE_PATHS))\n",
    "\n",
    "TILE_SIZE = 256"
   ]
  },
  {
   "cell_type": "code",
   "execution_count": 5,
   "metadata": {},
   "outputs": [],
   "source": [
    "sequence_arrays = {}\n",
    "\n",
    "# Iterate through sequence folders (e.g., \"78\", \"g60\")\n",
    "for sequence_name in os.listdir(TILES_DIR):\n",
    "    sequence_path = os.path.join(TILES_DIR, sequence_name)\n",
    "\n",
    "    if os.path.isdir(sequence_path):  # Ignore hidden files/folders\n",
    "        tile_arrays = {}  # Dictionary for tile arrays within this sequence\n",
    "\n",
    "        # Iterate through image folders within the sequence (e.g., \"0001.tif\", \"0023.tif\")\n",
    "        for image_folder_name in os.listdir(sequence_path):\n",
    "            image_folder_path = os.path.join(sequence_path, image_folder_name)\n",
    "\n",
    "            if os.path.isdir(image_folder_path):\n",
    "                # Iterate through the tile images within the image folder\n",
    "                for tile_image_name in os.listdir(image_folder_path):\n",
    "                    if tile_image_name.startswith(\"tile_\") and tile_image_name.endswith(\".png\"):\n",
    "                        try:\n",
    "                            tile_number_match = re.search(r\"tile_(\\d+)\\.png\", tile_image_name)\n",
    "                            if tile_number_match:\n",
    "                                tile_number = int(tile_number_match.group(1))\n",
    "                                tile_image_path = os.path.join(image_folder_path, tile_image_name)\n",
    "                                if tile_number not in tile_arrays:\n",
    "                                    tile_arrays[tile_number] = []\n",
    "                                tile_arrays[tile_number].append(tile_image_path)\n",
    "\n",
    "                        except ValueError:\n",
    "                            print(f\"Warning: Could not parse tile number from {tile_image_name} in {image_folder_path}\")\n",
    "\n",
    "\n",
    "\n",
    "        sequence_arrays[sequence_name] = tile_arrays  # Add the tile arrays for this sequence"
   ]
  },
  {
   "cell_type": "markdown",
   "metadata": {},
   "source": [
    "# Dataset"
   ]
  },
  {
   "cell_type": "code",
   "execution_count": 6,
   "metadata": {},
   "outputs": [],
   "source": [
    "class CustomDataset(Dataset):\n",
    "    def __init__(self, variations_per_image: int = 10):\n",
    "        self.variations_per_image = variations_per_image\n",
    "    \n",
    "    def __len__(self):\n",
    "        return NUM_TILES * self.variations_per_image\n",
    "\n",
    "    def __getitem__(self, index):\n",
    "        # Indexes work like this:\n",
    "        # [1_0, ..., n_0, 1_1, ..., n_1, 1_v, ..., n_v, ...]\n",
    "        # [1  , ..., n  , n+1, ..., n+n, vn+1,..., vn+n,...]\n",
    "        # Where n is the number of images\n",
    "        # And v is the variation number\n",
    "        \n",
    "        # Get the image index\n",
    "        path_index = index % NUM_TILES\n",
    "        variation = index // self.variations_per_image\n",
    "\n",
    "        random.seed(variation)\n",
    "\n",
    "        composer = VectorFieldComposer()\n",
    "            \n",
    "        available_fields = list(VECTOR_FIELDS.keys())\n",
    "        num_fields = random.randint(1, 3)\n",
    "        for _ in range(num_fields):\n",
    "            field_type = random.choice(available_fields)\n",
    "            composer.add_field(field_type, randomize=True)\n",
    "        \n",
    "        image = np.array(Image.open(TILE_IMAGE_PATHS[path_index], mode=\"r\"))\n",
    "        image2 = composer.apply_to_image(image)\n",
    "\n",
    "        grid_X, grid_Y = np.meshgrid(np.linspace(-1, 1, TILE_SIZE), np.linspace(-1, 1, TILE_SIZE))\n",
    "        dx, dy = composer.compute_combined_field(grid_X, grid_Y)\n",
    "\n",
    "        # return image.astype(np.float32), dx.astype(np.float32)\n",
    "        return np.array([image, image2]).astype(np.float32), np.array([dx, dy]).astype(np.float32)"
   ]
  },
  {
   "cell_type": "markdown",
   "metadata": {},
   "source": [
    "# Model"
   ]
  },
  {
   "cell_type": "code",
   "execution_count": 7,
   "metadata": {},
   "outputs": [
    {
     "name": "stdout",
     "output_type": "stream",
     "text": [
      "Using cuda device\n"
     ]
    }
   ],
   "source": [
    "device = torch.accelerator.current_accelerator().type if torch.accelerator.is_available() else \"cpu\"\n",
    "print(f\"Using {device} device\")"
   ]
  },
  {
   "cell_type": "code",
   "execution_count": 8,
   "metadata": {},
   "outputs": [],
   "source": [
    "class ConvolutionBlock(nn.Module):\n",
    "    def __init__(self, in_channels, out_channels, kernel_size=3, stride=1, padding=1):\n",
    "        super().__init__()\n",
    "        \n",
    "        self.conv = nn.Sequential(\n",
    "            nn.Conv2d(in_channels, out_channels, kernel_size=kernel_size, stride=stride, padding=padding, bias=False),\n",
    "            nn.BatchNorm2d(out_channels),\n",
    "            nn.LeakyReLU(0.1, inplace=True),\n",
    "        )\n",
    "\n",
    "        self.residual = nn.Sequential()\n",
    "        if in_channels != out_channels:\n",
    "            self.residual = nn.Sequential(\n",
    "                nn.Conv2d(in_channels, out_channels, kernel_size=1, stride=stride, bias=False),\n",
    "                nn.BatchNorm2d(out_channels),\n",
    "            )\n",
    "\n",
    "    def forward(self, x):\n",
    "        # i learned about this in class today! the timing in on point!\n",
    "        return self.conv(x) + self.residual(x)\n",
    "\n",
    "class MotionVectorRegressionNetwork(nn.Module):\n",
    "    def __init__(self, input_images = 2):\n",
    "        super().__init__()\n",
    "        # Outputs an xy motion vector per pixel\n",
    "        self.input_images = input_images\n",
    "        self.vector_channels = 2\n",
    "\n",
    "        self.convolution = nn.Sequential(\n",
    "            ConvolutionBlock(input_images, 32, kernel_size=3), # input_images (2) -> 32 channels\n",
    "            nn.MaxPool2d(kernel_size=2), # scales down by half\n",
    "\n",
    "            ConvolutionBlock(32, 64, kernel_size=3), # 32 -> 64 channels\n",
    "            nn.MaxPool2d(kernel_size=2), # scales down by half\n",
    "\n",
    "            ConvolutionBlock(64, 128, kernel_size=3), # 64 -> 128 channels \n",
    "            ConvolutionBlock(128, 128, kernel_size=3), # 128 -> 128 channels\n",
    "        ) \n",
    "\n",
    "        self.output = nn.Sequential(\n",
    "            # scale back up\n",
    "            nn.ConvTranspose2d(128, 64, kernel_size=4, stride=2, padding=1), # 128 -> 64 channels\n",
    "            nn.LeakyReLU(0.1),\n",
    "            nn.BatchNorm2d(64),\n",
    "            nn.ConvTranspose2d(64, 32, kernel_size=4, stride=2, padding=1), # 64 -> 32 channels\n",
    "            nn.LeakyReLU(0.1),\n",
    "            nn.BatchNorm2d(32),\n",
    "            nn.Conv2d(32, self.vector_channels, kernel_size=3, stride=1, padding=1), # 32 -> 2 channels\n",
    "        )\n",
    "\n",
    "    def forward(self, x):\n",
    "        # print(x.shape)\n",
    "        x = self.convolution(x)\n",
    "        # print(x.shape)\n",
    "        x = self.output(x)\n",
    "        # print(x.shape)\n",
    "        return x"
   ]
  },
  {
   "cell_type": "markdown",
   "metadata": {},
   "source": [
    "# Testing"
   ]
  },
  {
   "cell_type": "code",
   "execution_count": 9,
   "metadata": {},
   "outputs": [
    {
     "data": {
      "text/plain": [
       "<All keys matched successfully>"
      ]
     },
     "execution_count": 9,
     "metadata": {},
     "output_type": "execute_result"
    }
   ],
   "source": [
    "MODEL_FILE = \"model2/tx7.pth\"\n",
    "model = MotionVectorRegressionNetwork().to(device)\n",
    "model.load_state_dict(torch.load(MODEL_FILE, weights_only=True))"
   ]
  },
  {
   "cell_type": "code",
   "execution_count": 10,
   "metadata": {},
   "outputs": [],
   "source": [
    "model.eval()\n",
    "\n",
    "num_examples = 1\n",
    "sequence_name = 'g60'\n",
    "if sequence_name not in sequence_arrays:\n",
    "    print(f\"Sequence '{sequence_name}' not found in sequence_arrays. Please check your data.\")\n",
    "else:\n",
    "    image_paths = sequence_arrays[sequence_name][5]\n",
    "    for example_index in range(num_examples):\n",
    "        base_image_path = image_paths[example_index * 2] #0, 2, 4\n",
    "        next_time_path = image_paths[example_index * 2 + 1] #1, 3, 5\n",
    "\n",
    "        base_image = np.array(Image.open(base_image_path))\n",
    "        next_time_pil = Image.open(next_time_path)\n",
    "        # next_time_pil = next_time_pil.filter(ImageFilter.GaussianBlur(radius=0.5)) #radius controls the amount of blur\n",
    "        next_time = np.array(next_time_pil)\n",
    "\n",
    "        with torch.no_grad():\n",
    "            X = torch.from_numpy(np.array([base_image, next_time])).float()\n",
    "            X = X.unsqueeze(0)\n",
    "            X = X.to(device)\n",
    "            pred = model(X)\n",
    "\n",
    "            with open(\"image_displacements.txt\", \"w\") as f:\n",
    "                for y in range(TILE_SIZE):\n",
    "                    for x in range(TILE_SIZE):\n",
    "                        u = pred[0, 0, y, x]\n",
    "                        v = pred[0, 1, y, x]\n",
    "                        \n",
    "                        f.write(f\"{x} {y} {u:.6f} {v:.6f}\\n\")"
   ]
  }
 ],
 "metadata": {
  "kernelspec": {
   "display_name": "py310_gpu",
   "language": "python",
   "name": "python3"
  },
  "language_info": {
   "codemirror_mode": {
    "name": "ipython",
    "version": 3
   },
   "file_extension": ".py",
   "mimetype": "text/x-python",
   "name": "python",
   "nbconvert_exporter": "python",
   "pygments_lexer": "ipython3",
   "version": "3.10.15"
  }
 },
 "nbformat": 4,
 "nbformat_minor": 2
}
